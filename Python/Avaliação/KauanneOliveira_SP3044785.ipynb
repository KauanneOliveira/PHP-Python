{
  "nbformat": 4,
  "nbformat_minor": 0,
  "metadata": {
    "colab": {
      "provenance": []
    },
    "kernelspec": {
      "name": "python3",
      "display_name": "Python 3"
    },
    "language_info": {
      "name": "python"
    }
  },
  "cells": [
    {
      "cell_type": "markdown",
      "source": [
        "**1) (1,0 ponto) Por que é importante entender a audiência ao desenvolver uma aplicação web? Cite três aspectos da audiência que devem ser considerados durante o desenvolvimento.**\n",
        "\n",
        "É importante porque precisa criar uma aplicação que responda às necessidades dos usuários. Se não considerar quem vai usar sua aplicação e como eles vão usá-la, pode acabar com algo que não é útil ou difícil de usar. Três aspectos importantes a considerar são:\n",
        "\n",
        "\n",
        "**Idade:** O público-alvo é fundamental. Conhecer a idade aproximada dos usuários permite seguir um caminho mais direcionado: enquanto jovens preferem interfaces mais intuitivas e dinâmicas, adultos costumam gostar de navegações simples e textos de fácil leitura. Exemplo: um site para adolescentes pode incluir animações e interações, enquanto um para idosos pode focar em botões maiores e menos elementos gráficos.\n",
        "\n",
        "**Interesses:** Conhecer os interesses dos usuários permite personalizar funcionalidades. Exemplo: uma plataforma de esportes pode destacar notícias e estatísticas em tempo real, enquanto um site voltado para arte pode focar em imagens e galerias de alta qualidade.\n",
        "\n",
        "**Acessibilidade:** Se a aplicação é voltada para pessoas com deficiência visual, auditiva ou motora, o design precisa priorizar a inclusão, oferecendo funcionalidades como leitores de tela, legendas em vídeos ou comandos por voz. Exemplo: uma aplicação para pessoas com baixa visão pode utilizar contrastes fortes e opções de aumento de texto.\n"
      ],
      "metadata": {
        "id": "XwThuub23iBm"
      }
    },
    {
      "cell_type": "markdown",
      "source": [
        "**2) (0,5 ponto) Explique a diferença entre client-side e server-side em uma aplicação web.**\n",
        "\n",
        "Client-side é o lado do cliente, é tudo o que acontece no navegador do usuário. É o lado que mostrar as páginas da web, interage com o usuário e atualizar o conteúdo da página. As tecnologias mais usadas são HTML, CSS e JavaScript.\n",
        "\n",
        "Já o server-side é o lado do servidor, é tudo o que acontece no servidor. Este lado processa dados, armazena informações e gera o conteúdo que será enviado para o navegador do usuário. As tecnologias mais utilizadas são: PHP, Python e Node.js."
      ],
      "metadata": {
        "id": "oHZRs4jY4Weu"
      }
    },
    {
      "cell_type": "markdown",
      "source": [
        "**3) (0,5 ponto) O que é CSS e qual o seu papel no desenvolvimento de páginas web?**\n",
        "\n",
        "CSS(Cascading Style Sheets) é uma linguagem de estilo, utilizada para estilizar e ajustar a aparência das páginas web.  Isso inclui cores, fontes, tamanhos, responsividade, espaçamentos, e layout geral.\n",
        "\n",
        "O CSS tem um grande impacto na responsividade das páginas web, pois ele permite que o layout se adapte a diferentes dispositivos e tamanhos de tela. Sendo assim, um site vai funcionar tanto para um smartphone quanto para um notebook. Isso melhora a experiência do usuário em qualquer dispositivo, tornando a página acessível e fácil de usar.\n",
        "\n",
        "Além disso, o CSS melhora a usabilidade ao organizar o conteúdo visualmente, como cores, espaçamentos e tipografias que facilitam a leitura e interação. O design intuitivo, gerado pelo CSS, torna a navegação mais eficiente e agradável, o que reduz a frustração do usuário.\n"
      ],
      "metadata": {
        "id": "cBrk_iQh6E0O"
      }
    },
    {
      "cell_type": "markdown",
      "source": [
        "**4) (1,0 ponto) O que são variáveis em PHP e como elas são declaradas? Sendo PHP uma linguagem fracamente tipada, como é possível verificar qual é o tipo de dado armazenado em uma variável na linguagem PHP?**\n",
        "\n",
        "Variáveis em PHP são como caixinhas em que pode guardar valores temporariamente, sendo eles numéricos, textos, listas, matrizes, etc.\n",
        "Por ser uma linguagem fracamente tipada, não precisa especificar o tipo de dado quando declara uma variável.\n",
        "\n",
        "E para saber qual é o tipo de dado armazenado em uma variável, basta usar a função var_dump() ou a função gettyp(), que retorna uma string indicando o tipo da variável.\n",
        "\n",
        "***Exemplos:***\n",
        "\n",
        "```\n",
        "$A = 90;\n",
        "echo gettype($A);  // saída: integer\n",
        "\n",
        "$B = \"Kauanne\";\n",
        "var_dump($B);  // saída: string(7) \"Kauanne\"\n",
        "```\n",
        "\n"
      ],
      "metadata": {
        "id": "M3uo_fDj6Hha"
      }
    },
    {
      "cell_type": "markdown",
      "source": [
        "**5) (1,0 ponto) Explique o funcionamento de um loop for e um loop while em PHP. Em quais situações cada um deles é mais adequado?**\n",
        "\n",
        "O laço for vai possui uma iniciação, uma condição e um incremento ou decremento. A iniciação é o momento que define uma variável de controle e já a inicia; a condição é o espaço que determina uma condição que precisa ser verdadeira para o loop rodar; e por fim o incremento/decremento é o local que vai definir quanto a variável vai aumentar ou diminuir depois de cada repetição.\n",
        "O while vai possuir apenas uma condição na sua sintaxe, que precisa ser verdadeira também para entrar em loop.\n",
        "\n",
        "O for é mais adequado quando o número de repetições é conhecido ou é fixo, já o while é usando quando esse número de repetição não é conhecido e depende de uma condição que deve ser testada a cada ciclo.\n",
        "\n",
        "***Exemplo de um laço for:***\n",
        "\n",
        "\n",
        "```\n",
        "# Exibição dos números ímpares de 1 até 10\n",
        "\n",
        "for ($i = 1; $i <= 10; $i += 2) {\n",
        "    echo \"Número: $i <br>\";\n",
        "}\n",
        "\n",
        "```\n",
        "\n",
        "***Exemplo de um laço while:***\n",
        "\n",
        "\n",
        "```\n",
        "# Exibição dos números ímpares de 1 até 10\n",
        "\n",
        "$i = 1;\n",
        "while ($i <= 10) {\n",
        "    echo \"Número: $i <br>\";\n",
        "    $i += 2;\n",
        "}\n",
        "\n",
        "```"
      ],
      "metadata": {
        "id": "yQStb19h6KPQ"
      }
    },
    {
      "cell_type": "code",
      "source": [
        "#6) (0,5 ponto) Crie uma variável para armazenar seu nome e outra para armazenar sua idade.\n",
        "# Imprima uma mensagem que apresente o valor das duas variáveis utilizando a função print().\n",
        "\n",
        "nome = \"Kauanne\"\n",
        "idade = 19\n",
        "\n",
        "print(f\"Meu nome é {nome} e eu tenho {idade} anos.\")\n"
      ],
      "metadata": {
        "colab": {
          "base_uri": "https://localhost:8080/"
        },
        "id": "DbDq9yN6_aGV",
        "outputId": "d2f7c480-ea5d-4c4d-ae1e-5fc230489356"
      },
      "execution_count": null,
      "outputs": [
        {
          "output_type": "stream",
          "name": "stdout",
          "text": [
            "Meu nome é Kauanne e eu tenho 19 anos.\n"
          ]
        }
      ]
    },
    {
      "cell_type": "code",
      "source": [
        "# 7) (3,0 ponto) Crie uma classe Apartamento com os seguintes atributos: endereco, numero, andar e area_m2.\n",
        "# - Instancie dois objetos da classe Apartamento com valores diferentes.\n",
        "# - Implemente um método exibir_detalhes() na classe Apartamento que retorne uma descrição completa do apartamento.\n",
        "# - Chame o método exibir_detalhes() para cada um dos objetos criados e exiba o resultado.\n",
        "# Dica: Use a função __init__ para inicializar os atributos da classe. Certifique-se de que o método exibir_detalhes() formate a string de maneira clara e detalhada.\n",
        "\n",
        "class Apartamento:\n",
        "    def __init__(self, endereco, numero, andar, area_m2):\n",
        "        self.endereco = endereco\n",
        "        self.numero = numero\n",
        "        self.andar = andar\n",
        "        self.area_m2 = area_m2\n",
        "\n",
        "    def exibir_detalhes(self):\n",
        "        return f\" Apartamento(Endereço: {self.endereco}, Número: {self.numero}, Andar: {self.andar}, Área: {self.area_m2} m2)\"\n",
        "\n",
        "\n",
        "ap1 = Apartamento(endereco=\"Rua Pedro Vicente\", numero=637,andar=2, area_m2=100)\n",
        "ap2 = Apartamento(endereco=\"Avenida Paulista\", numero=78, andar=10, area_m2=500)\n",
        "\n",
        "print(ap1.exibir_detalhes())\n",
        "print(ap2.exibir_detalhes())\n",
        "\n",
        "\n"
      ],
      "metadata": {
        "colab": {
          "base_uri": "https://localhost:8080/"
        },
        "id": "T_4hvaPeAEBf",
        "outputId": "063a71a7-0f90-4d45-96fd-46bb48a4b078"
      },
      "execution_count": null,
      "outputs": [
        {
          "output_type": "stream",
          "name": "stdout",
          "text": [
            " Apartamento(Endereço: Rua Pedro Vicente, Número: 637, Andar: 2, Área: 100 m2)\n",
            " Apartamento(Endereço: Avenida Paulista, Número: 78, Andar: 10, Área: 500 m2)\n"
          ]
        }
      ]
    },
    {
      "cell_type": "code",
      "source": [
        "#8) (0,5 ponto) Calcule a soma de três números inteiros e mostre o resultado. Além do resultado, da soma, você também deve mostrar a média\n",
        "\n",
        "num1 = 22\n",
        "num2 = 19\n",
        "num3 = 90\n",
        "\n",
        "soma = num1 + num2 + num3\n",
        "\n",
        "media = soma / 3\n",
        "\n",
        "print(f\"Soma: {soma}\")\n",
        "print(f\"Média: {media}\")\n"
      ],
      "metadata": {
        "colab": {
          "base_uri": "https://localhost:8080/"
        },
        "id": "JlF65V8JBwax",
        "outputId": "8fad7eca-ba1f-411d-ecec-fcd0fdb67e58"
      },
      "execution_count": null,
      "outputs": [
        {
          "output_type": "stream",
          "name": "stdout",
          "text": [
            "Soma: 131\n",
            "Média: 43.666666666666664\n"
          ]
        }
      ]
    }
  ]
}